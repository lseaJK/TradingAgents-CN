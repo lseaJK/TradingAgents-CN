{
 "cells": [
  {
   "cell_type": "code",
   "execution_count": 1,
   "metadata": {},
   "outputs": [
    {
     "name": "stderr",
     "output_type": "stream",
     "text": [
      "/home/xingyao6/opt/miniconda3/envs/llm-agent/lib/python3.9/site-packages/tqdm/auto.py:21: TqdmWarning: IProgress not found. Please update jupyter and ipywidgets. See https://ipywidgets.readthedocs.io/en/stable/user_install.html\n",
      "  from .autonotebook import tqdm as notebook_tqdm\n"
     ]
    }
   ],
   "source": [
    "from glob import glob\n",
    "import json\n",
    "import os\n",
    "import re\n",
    "import sys\n",
    "import pandas as pd\n",
    "import numpy as np\n",
    "import seaborn as sns\n",
    "from tqdm import tqdm\n",
    "from typing import List, Dict, Mapping, Tuple, Union, Optional\n",
    "from transformers import AutoTokenizer\n",
    "\n",
    "tqdm.pandas()\n",
    "ROOT_DIR = os.path.dirname(os.path.dirname(os.path.dirname(os.path.dirname(os.getcwd())))) # Should be your path to the repo root\n",
    "sys.path.insert(0, ROOT_DIR)\n"
   ]
  },
  {
   "cell_type": "code",
   "execution_count": 2,
   "metadata": {},
   "outputs": [
    {
     "name": "stdout",
     "output_type": "stream",
     "text": [
      "Found 12 trajectory files\n"
     ]
    },
    {
     "name": "stdout",
     "output_type": "stream",
     "text": [
      "Found 8580 trajectories\n"
     ]
    }
   ],
   "source": [
    "trajectory_files = glob(os.path.join(ROOT_DIR, \"data/trajectories/medium_instances/*.jsonl\"))\n",
    "# trajectory_files = glob(os.path.join(ROOT_DIR, \"data/trajectories/easy_instances/*.jsonl\"))\n",
    "# trajectory_files = glob(os.path.join(ROOT_DIR, \"data/trajectories/hard_gpt4_instances/*.jsonl\"))\n",
    "print(f\"Found {len(trajectory_files)} trajectory files\")\n",
    "# read everything into a dataframe\n",
    "dfs = []\n",
    "for trajectory_file in trajectory_files:\n",
    "    with open(trajectory_file, \"r\") as f:\n",
    "        for line in f:\n",
    "            line = json.loads(line)\n",
    "            dfs.append(line)\n",
    "df = pd.DataFrame(dfs)\n",
    "print(f\"Found {len(df)} trajectories\")\n"
   ]
  },
  {
   "cell_type": "markdown",
   "metadata": {},
   "source": [
    "## Special Symbols"
   ]
  },
  {
   "cell_type": "code",
   "execution_count": 3,
   "metadata": {},
   "outputs": [
    {
     "data": {
      "text/plain": [
       "32002"
      ]
     },
     "execution_count": 3,
     "metadata": {},
     "output_type": "execute_result"
    }
   ],
   "source": [
    "tokenizer = AutoTokenizer.from_pretrained(\"/shared/nas/data/m1/shared-resource/llm/meta-llama/Llama-2-7b-hf/\")\n",
    "\n",
    "# follow https://github.com/openai/openai-python/blob/main/chatml.md\n",
    "# and https://huggingface.co/OpenAssistant/codellama-13b-oasst-sft-v10\n",
    "INST_START = \"<|im_start|>\"\n",
    "INST_END = \"<|im_end|>\"\n",
    "\n",
    "\"\"\"\n",
    "<|im_start|>system\n",
    "{system_message}<|im_end|>\n",
    "<|im_start|>user\n",
    "{prompt}<|im_end|>\n",
    "<|im_start|>assistant\n",
    "\"\"\"\n",
    "\n",
    "# add the special tokens\n",
    "tokenizer.add_special_tokens({\"additional_special_tokens\": [INST_START, INST_END]})\n",
    "len(tokenizer)\n"
   ]
  },
  {
   "cell_type": "markdown",
   "metadata": {},
   "source": [
    "## Filter Traj for Dataset"
   ]
  },
  {
   "cell_type": "code",
   "execution_count": 4,
   "metadata": {},
   "outputs": [
    {
     "data": {
      "text/plain": [
       "alfworld                    2099\n",
       "hotpotqa                    1630\n",
       "strategyqa                  1595\n",
       "wiki_table_questions        1129\n",
       "APPS                         667\n",
       "algebra                      467\n",
       "number_theory                270\n",
       "intermediate_algebra         236\n",
       "prealgebra                   234\n",
       "counting_and_probability     120\n",
       "precalculus                   73\n",
       "geometry                      60\n",
       "Name: task_name, dtype: int64"
      ]
     },
     "execution_count": 4,
     "metadata": {},
     "output_type": "execute_result"
    }
   ],
   "source": [
    "df[\"task_name\"].value_counts()\n"
   ]
  },
  {
   "cell_type": "code",
   "execution_count": 5,
   "metadata": {},
   "outputs": [
    {
     "name": "stdout",
     "output_type": "stream",
     "text": [
      "Length (before): 8580\n",
      "Length (after): 6985\n",
      "alfworld                    2099\n",
      "hotpotqa                    1630\n",
      "wiki_table_questions        1129\n",
      "APPS                         667\n",
      "algebra                      467\n",
      "number_theory                270\n",
      "intermediate_algebra         236\n",
      "prealgebra                   234\n",
      "counting_and_probability     120\n",
      "precalculus                   73\n",
      "geometry                      60\n",
      "Name: task_name, dtype: int64\n"
     ]
    }
   ],
   "source": [
    "# selected = df.query(\"task_name == 'APPS'\")\n",
    "print(\"Length (before):\", len(df))\n",
    "SELECT_TASK = [\n",
    "    \"alfworld\",\n",
    "    # \"strategyqa\",  # leave it out, has a lot short cuts (i.e., model cannot find answer from search)\n",
    "    \"hotpotqa\",\n",
    "    \"wiki_table_questions\", \n",
    "    \"APPS\", # Code\n",
    "    \"algebra\", \"number_theory\", \"prealgebra\", \"intermediate_algebra\", \"counting_and_probability\", \"precalculus\", \"geometry\"  # MATH\n",
    "]\n",
    "selected = df.query(\"task_name in @SELECT_TASK\")\n",
    "print(\"Length (after):\", len(selected))\n",
    "print(selected[\"task_name\"].value_counts())\n"
   ]
  },
  {
   "cell_type": "code",
   "execution_count": 6,
   "metadata": {},
   "outputs": [
    {
     "name": "stdout",
     "output_type": "stream",
     "text": [
      "Length (before): 6985\n",
      "Length (after remove invalid_action): 6955\n",
      "Length (after remove strategyqa propose=2 success): 6955\n"
     ]
    }
   ],
   "source": [
    "# Straightforward filtering\n",
    "assert selected[\"success\"].nunique() == 1, \"There should only be one value for success (1)\"\n",
    "\n",
    "print(\"Length (before):\", len(selected))\n",
    "# 1. remove all tasks that are have (n_turns - 1) invalid_action\n",
    "selected = selected[~((selected[\"n_turns\"] - 1) == selected[\"invalid_action\"])]\n",
    "print(\"Length (after remove invalid_action):\", len(selected))\n",
    "\n",
    "# 2. remove strategyqa tasks that success with proposed solution == 2\n",
    "# UPDATE: We obanonded this dataset entirely\n",
    "selected = selected[~((selected[\"task_name\"] == \"strategyqa\") & (selected[\"propose_solution\"] == 2))]\n",
    "print(\"Length (after remove strategyqa propose=2 success):\", len(selected))\n"
   ]
  },
  {
   "cell_type": "code",
   "execution_count": 7,
   "metadata": {},
   "outputs": [],
   "source": [
    "def data_filtering_heuritics(row) -> bool:\n",
    "    \"\"\"Return true if the state should be kept.\"\"\"\n",
    "    state = row[\"state\"]\n",
    "    history = state[\"history\"]\n",
    "    # print(f\"History length: {len(history)}\")\n",
    "    # exclude the first system message + instruction AND final assistant message (with no user response)\n",
    "    history = history[1:-1]\n",
    "    \n",
    "    # 1. This is a werid case where the assistant is not responding to the user\n",
    "    if len(history) % 2 != 0:\n",
    "        print(f\"[Instance Removed] History length is odd: {len(history)}\")\n",
    "        return False\n",
    "    # assert len(history) % 2 == 0, f\"History should be even length. But got {len(history)}.\"\n",
    "\n",
    "    # Collect assistant and user messages\n",
    "    paired_assistant_user_pairs = []\n",
    "    for i in range(0, len(history), 2):\n",
    "        assistant = history[i][\"content\"]\n",
    "        user = history[i + 1][\"content\"]\n",
    "        # print(f\"ASSISTANT:\\n{assistant}\")\n",
    "        # print(f\"USER:\\n{user}\")\n",
    "        paired_assistant_user_pairs.append((assistant, user))\n",
    "\n",
    "    # 2. Remove all <execute> outputs that *all* causes some sort of error (and eventually got it right?)\n",
    "    # This keeps the ones that are eventually correct and may or may not have errors in the beginning\n",
    "    if all(\n",
    "        (\n",
    "        \"<solution>\" in assistant_content \n",
    "         or (\"<execute>\" in assistant_content and \"Error\" in user_content)\n",
    "        )\n",
    "        for assistant_content, user_content in paired_assistant_user_pairs\n",
    "    ):  \n",
    "        return False\n",
    "\n",
    "    return True\n",
    "\n",
    "def convert_state_to_traj(state):\n",
    "    STRIP_WORDS = [\n",
    "        \"Assistant:\",\n",
    "    ]\n",
    "    history = state[\"history\"]\n",
    "    res = \"\"\n",
    "\n",
    "    for i, turn in enumerate(history):\n",
    "        role = turn[\"role\"]\n",
    "        text = turn[\"content\"].strip()\n",
    "        for word in STRIP_WORDS:\n",
    "            text = text.lstrip(word)\n",
    "        text = text.strip()\n",
    "        if i == 0:\n",
    "            assert role == \"user\"\n",
    "            # specifically handle the first turn\n",
    "            splited_text = text.split(\"\\n---\\n\\nTask:\")\n",
    "            assert len(splited_text) == 3, f\"Expecting 3 parts. But got {len(splited_text)} parts: \\n{text}\"\n",
    "            system_message, in_context_example, task = splited_text\n",
    "            res += f\"{INST_START}system\\n{system_message.strip()}{INST_END}\\n\"\n",
    "            res += f\"{INST_START}user\\nTask:\\n{task.strip()}{INST_END}\\n\"\n",
    "\n",
    "        elif role == \"user\":\n",
    "            res += f\"{INST_START}user\\n{text}{INST_END}\\n\"\n",
    "        elif role == \"assistant\":\n",
    "            res += f\"{INST_START}assistant\\n{text}{INST_END}\\n\"\n",
    "    return res\n",
    "\n",
    "SYSTEM_MSG_TO_REPLACE = \"\"\"At each turn, you should first provide your step-by-step thinking for solving the task. Your thought process should be enclosed using \"<thought>\" tag, for example: <thought> I need to print \"Hello World!\" </thought>.\n",
    "\n",
    "After that, you have two options:\"\"\"\n",
    "\n",
    "SYSTEM_MSG_NEW = \"\"\"At each turn, you should first provide your step-by-step thinking for solving the task. After that, you have two options:\"\"\"\n",
    "\n",
    "def convert_state_to_traj(state) -> List[Mapping[str, str]]:\n",
    "    STRIP_WORDS = [\n",
    "        \"Assistant:\",\n",
    "    ]\n",
    "    history = state[\"history\"]\n",
    "    res = []\n",
    "\n",
    "    def _fix_weird_str(string):\n",
    "        string = string.replace(\"Assistant\\uff1a\", \"\")\n",
    "        string = string.replace(\"Assistant:\", \"\")\n",
    "        return string\n",
    "\n",
    "    for i, turn in enumerate(history):\n",
    "        role = turn[\"role\"]\n",
    "        text = turn[\"content\"].strip()\n",
    "        for word in STRIP_WORDS:\n",
    "            text = text.lstrip(word)\n",
    "        text = text.strip()\n",
    "        if i == 0:\n",
    "            assert role == \"user\"\n",
    "            # specifically handle the first turn\n",
    "            splited_text = text.split(\"\\n---\\n\\nTask:\")\n",
    "            assert len(splited_text) == 3, f\"Expecting 3 parts. But got {len(splited_text)} parts: \\n{text}\"\n",
    "            system_message, in_context_example, task = splited_text\n",
    "            system_message = system_message.replace(SYSTEM_MSG_TO_REPLACE, SYSTEM_MSG_NEW)\n",
    "            # res += f\"{INST_START}system\\n{system_message.strip()}{INST_END}\\n\"\n",
    "            res.append({\n",
    "                \"role\": \"system\",\n",
    "                \"content\": system_message.strip()\n",
    "            })\n",
    "            # res += f\"{INST_START}user\\nTask:\\n{task.strip()}{INST_END}\\n\"\n",
    "            res.append({\n",
    "                \"role\": \"user\",\n",
    "                \"content\": f\"Task:\\n{task.strip()}\"\n",
    "            })\n",
    "\n",
    "        elif role == \"user\":\n",
    "            res.append({\n",
    "                \"role\": \"user\",\n",
    "                \"content\": text\n",
    "            })\n",
    "        elif role == \"assistant\":\n",
    "            # replace <thought> and </thought> with empty string, but keep the content between them\n",
    "            # if is on a separate line, remove the line\n",
    "            # do not capture the space right after <thought> and before </thought>\n",
    "            text = re.sub(r\"<thought>(.*?)</thought>\", lambda match: match.group(1).strip(), text, flags=re.DOTALL)\n",
    "\n",
    "            res.append({\n",
    "                \"role\": \"assistant\",\n",
    "                \"content\": _fix_weird_str(text)\n",
    "            })\n",
    "    return res\n",
    "\n",
    "def format_traj_to_str(traj: List[Mapping[str, str]]) -> str:\n",
    "    res = \"\"\n",
    "    for turn in traj:\n",
    "        res += f\"{INST_START}{turn['role']}\\n{turn['content']}{INST_END}\\n\"\n",
    "    return res\n",
    "\n",
    "def visualize_traj(traj: List[Mapping[str, str]]):\n",
    "    print(\"==========================\")\n",
    "    for turn in traj:\n",
    "        if turn[\"role\"] == \"user\":\n",
    "            print(\"\\033[1;34;40m\" + f\"USER:\\n{turn['content']}\" + \"\\033[0m\")\n",
    "            print(\"==========================\")\n",
    "        elif turn[\"role\"] == \"assistant\":\n",
    "            # green for assistant\n",
    "            print(\"\\033[1;32;40m\" + f\"ASSISTANT:\\n{turn['content']}\" + \"\\033[0m\")\n",
    "            print(\"==========================\")\n",
    "        elif turn[\"role\"] == \"system\":\n",
    "            # yellow for system\n",
    "            print(\"\\033[1;33;40m\" + f\"SYSTEM:\\n{turn['content']}\" + \"\\033[0m\")\n",
    "            print(\"==========================\")\n"
   ]
  },
  {
   "cell_type": "code",
   "execution_count": 8,
   "metadata": {},
   "outputs": [
    {
     "name": "stdout",
     "output_type": "stream",
     "text": [
      "[Instance Removed] History length is odd: 5\n",
      "[Instance Removed] History length is odd: 5\n",
      "[Instance Removed] History length is odd: 5\n",
      "[Instance Removed] History length is odd: 7\n",
      "[Instance Removed] History length is odd: 5\n",
      "[Instance Removed] History length is odd: 5\n"
     ]
    },
    {
     "data": {
      "text/plain": [
       "True     6728\n",
       "False     227\n",
       "Name: keep, dtype: int64"
      ]
     },
     "execution_count": 8,
     "metadata": {},
     "output_type": "execute_result"
    }
   ],
   "source": [
    "selected = selected.assign(keep=selected.apply(data_filtering_heuritics, axis=1))\n",
    "selected[\"keep\"].value_counts()\n"
   ]
  },
  {
   "cell_type": "code",
   "execution_count": 9,
   "metadata": {},
   "outputs": [
    {
     "data": {
      "text/plain": [
       "task_name                 keep \n",
       "APPS                      True      573\n",
       "                          False      69\n",
       "alfworld                  True     2031\n",
       "                          False      68\n",
       "algebra                   True      462\n",
       "                          False       5\n",
       "counting_and_probability  True      119\n",
       "geometry                  True       59\n",
       "hotpotqa                  True     1618\n",
       "                          False      11\n",
       "intermediate_algebra      True      234\n",
       "                          False       2\n",
       "number_theory             True      269\n",
       "                          False       1\n",
       "prealgebra                True      227\n",
       "                          False       5\n",
       "precalculus               True       71\n",
       "                          False       2\n",
       "wiki_table_questions      True     1065\n",
       "                          False      64\n",
       "Name: keep, dtype: int64"
      ]
     },
     "execution_count": 9,
     "metadata": {},
     "output_type": "execute_result"
    }
   ],
   "source": [
    "selected.groupby(\"task_name\")[\"keep\"].value_counts()\n"
   ]
  },
  {
   "cell_type": "code",
   "execution_count": 47,
   "metadata": {},
   "outputs": [],
   "source": [
    "# # Look at filtered data\n",
    "# visualize_traj_str(convert_state_to_traj_str(selected[~selected[\"keep\"]].sample(1).iloc[0][\"state\"]))\n"
   ]
  },
  {
   "cell_type": "markdown",
   "metadata": {},
   "source": [
    "# Process Kept Data"
   ]
  },
  {
   "cell_type": "code",
   "execution_count": 10,
   "metadata": {},
   "outputs": [
    {
     "name": "stdout",
     "output_type": "stream",
     "text": [
      "Total number of data points: 6728\n"
     ]
    },
    {
     "data": {
      "text/plain": [
       "task_name\n",
       "APPS                         573\n",
       "alfworld                    2031\n",
       "algebra                      462\n",
       "counting_and_probability     119\n",
       "geometry                      59\n",
       "hotpotqa                    1618\n",
       "intermediate_algebra         234\n",
       "number_theory                269\n",
       "prealgebra                   227\n",
       "precalculus                   71\n",
       "wiki_table_questions        1065\n",
       "Name: id, dtype: int64"
      ]
     },
     "metadata": {},
     "output_type": "display_data"
    },
    {
     "data": {
      "text/plain": [
       "task_type\n",
       "code_generation     573\n",
       "decision_making    2031\n",
       "reasoning          3059\n",
       "tabular            1065\n",
       "Name: id, dtype: int64"
      ]
     },
     "metadata": {},
     "output_type": "display_data"
    },
    {
     "data": {
      "text/plain": [
       "<Axes: ylabel='task_name'>"
      ]
     },
     "execution_count": 10,
     "metadata": {},
     "output_type": "execute_result"
    },
    {
     "data": {
      "image/png": "[encoded data removed]",
      "text/plain": [
       "<Figure size 500x500 with 1 Axes>"
      ]
     },
     "metadata": {},
     "output_type": "display_data"
    }
   ],
   "source": [
    "# Look at keep data\n",
    "kept_data = selected[selected[\"keep\"]]\n",
    "# assign a unique id to each data point\n",
    "def get_id(row):\n",
    "    return f\"{row['task_type']}/{row['task_name']}/{row['task_id']}/{row['agent_model_name']}/{row['exp_setting']}\"\n",
    "kept_data = kept_data.assign(id=kept_data.apply(get_id, axis=1))\n",
    "print(f\"Total number of data points: {len(kept_data)}\")\n",
    "\n",
    "# distribution of data points\n",
    "# kept_data.groupby(\"task_name\")[\"id\"].count().sort_values(ascending=False)\n",
    "display(kept_data.groupby(\"task_name\")[\"id\"].count())\n",
    "display(kept_data.groupby(\"task_type\")[\"id\"].count())\n",
    "# Make it a bar chart with task_name on y-axis and count on x-axis AND annotate the count on the bar\n",
    "kept_data.groupby(\"task_name\")[\"id\"].count().sort_values(ascending=False).plot.barh(figsize=(5, 5))\n"
   ]
  },
  {
   "cell_type": "code",
   "execution_count": 11,
   "metadata": {},
   "outputs": [
    {
     "name": "stdout",
     "output_type": "stream",
     "text": [
      "==========================\n",
      "\u001b[1;33;40mSYSTEM:\n",
      "You are a helpful assistant assigned with the task of problem-solving. To achieve this, you will be using an interactive coding environment equipped with a variety of tool functions to assist you throughout the process.\n",
      "\n",
      "At each turn, you should first provide your step-by-step thinking for solving the task. After that, you have two options:\n",
      "\n",
      "1) Interact with a Python programming environment and receive the corresponding output. Your code should be enclosed using \"<execute>\" tag, for example: <execute> print(\"Hello World!\") </execute>.\n",
      "2) Directly provide a solution that adheres to the required format for the given task. Your solution should be enclosed using \"<solution>\" tag, for example: The answer is <solution> A </solution>.\n",
      "\n",
      "You have 5 chances to interact with the environment or propose a solution. You can only propose a solution 2 times.\n",
      "\n",
      "Tool function available (already imported in <execute> environment):\n",
      "[1] wikipedia_search(query: str) -> str\n",
      "The Wikipedia Search tool provides access to a vast collection of articles covering a wide range of topics.\n",
      "Can query specific keywords or topics to retrieve accurate and comprehensive information.\u001b[0m\n",
      "==========================\n",
      "\u001b[1;34;40mUSER:\n",
      "Task:\n",
      "Was Paul Boghossian Chair of the Department in the NYU Department of Philosophy during the same year when System of a Down was formed?\u001b[0m\n",
      "==========================\n",
      "\u001b[1;32;40mASSISTANT:\n",
      "To solve this problem, let's start by determining the year when System of a Down was formed.\n",
      "<execute> print(wikipedia_search('System of a Down')) </execute>\u001b[0m\n",
      "==========================\n",
      "\u001b[1;34;40mUSER:\n",
      "Observation:\n",
      "Page: System of a Down\n",
      "Summary: System of a Down (also known as SOAD or simply System) is an Armenian-American heavy metal band formed in Glendale, California, in 1994. Since 1997, the band has consisted of Serj Tankian (lead vocals, keyboards); Daron Malakian (guitar, vocals); Shavo Odadjian (bass, backing vocals); and John Dolmayan (drums), who replaced original drummer Andy Khachaturian.The band achieved commercial success with the release of five studio albums, three of which debuted at number one on the US Billboard 200. System of a Down has been nominated for four Grammy Awards, and their song \"B.Y.O.B.\" won a Grammy Award for Best Hard Rock Performance in 2006. The band went on hiatus in 2006 and reunited in 2010. Other than two new songs in 2020 (\"Protect the Land\" and \"Genocidal Humanoidz\"), System of a Down has not released a full-length record since the Mezmerize and Hypnotize albums in 2005. The band has sold over 12 million records worldwide, while two of their singles, \"A\n",
      "You have 4 steps left and 2 chances to propose solution left.\u001b[0m\n",
      "==========================\n",
      "\u001b[1;32;40mASSISTANT:\n",
      "According to the Wikipedia search result, System of a Down was formed in 1994.\n",
      "Now let's find out if Paul Boghossian was the Chair of the Department in the NYU Department of Philosophy during the same year.\n",
      "<execute> print(wikipedia_search('Paul Boghossian')) </execute>\u001b[0m\n",
      "==========================\n",
      "\u001b[1;34;40mUSER:\n",
      "Observation:\n",
      "Page: Paul Boghossian\n",
      "Summary: Paul Artin Boghossian (; born 1957) is an American philosopher. He is Silver Professor of Philosophy at New York University, where he is chair of the department (having also held the position from 1994 to 2004). His research interests include epistemology, the philosophy of mind, and the philosophy of language. He is also director of the New York Institute of Philosophy and Distinguished Research Professor of Philosophy at the University of Birmingham.\n",
      "\n",
      "Page: Boghossian\n",
      "Summary: Boghossian, Bogossyan, Boghosian, Bogosyan, etc. is an Armenian surname, particularly associated with Western Armenia. The Eastern Armenian equivalent is Poghossyan. It is a patronymic from the first name Boghos (Armenian: Պողոս), equivalent to Paul, making the name effectively equivalent to Paulson.\n",
      "Notable people with the name include:\n",
      "\n",
      "Alain Boghossian, French-Armenian football player and now assistant coach for the French national team.\n",
      "Paul Boghossian, professor of philosophy\n",
      "You have 3 steps left and 2 chances to propose solution left.\u001b[0m\n",
      "==========================\n",
      "\u001b[1;32;40mASSISTANT:\n",
      "According to the Wikipedia search result, Paul Boghossian was the Chair of the Department in the NYU Department of Philosophy from 1994 to 2004.\n",
      "Since System of a Down was formed in 1994, Paul Boghossian was indeed the Chair of the Department in the NYU Department of Philosophy during the same year.\n",
      "<solution> Yes </solution>\u001b[0m\n",
      "==========================\n"
     ]
    }
   ],
   "source": [
    "visualize_traj(convert_state_to_traj(kept_data.sample(1).iloc[0][\"state\"]))\n"
   ]
  },
  {
   "cell_type": "code",
   "execution_count": 12,
   "metadata": {},
   "outputs": [
    {
     "name": "stdout",
     "output_type": "stream",
     "text": [
      "Got 6728 trajectories\n"
     ]
    },
    {
     "name": "stderr",
     "output_type": "stream",
     "text": [
      "100%|██████████| 6728/6728 [00:27<00:00, 247.66it/s]\n"
     ]
    },
    {
     "data": {
      "text/plain": [
       "<Axes: xlabel='conversations', ylabel='Proportion'>"
      ]
     },
     "metadata": {},
     "output_type": "display_data"
    },
    {
     "data": {
      "image/png": "[encoded data removed]",
      "text/plain": [
       "<Figure size 640x480 with 1 Axes>"
      ]
     },
     "metadata": {},
     "output_type": "display_data"
    }
   ],
   "source": [
    "output_traj = pd.concat(\n",
    "    [\n",
    "        kept_data[\"id\"],\n",
    "        kept_data[\"state\"].apply(convert_state_to_traj),\n",
    "    ],\n",
    "    axis=1\n",
    ").rename(columns={\"state\": \"conversations\"})\n",
    "print(f\"Got {len(output_traj)} trajectories\")\n",
    "output_traj_length = output_traj[\"conversations\"].progress_apply(lambda x: len(tokenizer(format_traj_to_str(x)).input_ids))\n",
    "# display(output_traj_length.plot.hist(bins=100))\n",
    "# Do a ecdf plot\n",
    "display(sns.ecdfplot(output_traj_length))\n"
   ]
  },
  {
   "cell_type": "code",
   "execution_count": 47,
   "metadata": {},
   "outputs": [],
   "source": [
    "output_traj.to_json(os.path.join(ROOT_DIR, \"data/datasets/oct28_full6728.jsonl\"), orient=\"records\", lines=True)\n",
    "# output_traj.to_json(os.path.join(ROOT_DIR, \"data/datasets/oct30_easy8155.jsonl\"), orient=\"records\", lines=True)\n",
    "# output_traj.to_json(os.path.join(ROOT_DIR, \"data/datasets/nov2_gpt4hard411.jsonl\"), orient=\"records\", lines=True)\n"
   ]
  }
 ],
 "metadata": {
  "kernelspec": {
   "display_name": "llm-agent",
   "language": "python",
   "name": "python3"
  },
  "language_info": {
   "codemirror_mode": {
    "name": "ipython",
    "version": 3
   },
   "file_extension": ".py",
   "mimetype": "text/x-python",
   "name": "python",
   "nbconvert_exporter": "python",
   "pygments_lexer": "ipython3",
   "version": "3.9.18"
  }
 },
 "nbformat": 4,
 "nbformat_minor": 2
}
